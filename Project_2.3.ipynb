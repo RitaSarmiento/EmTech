{
 "cells": [
  {
   "cell_type": "code",
   "execution_count": 3,
   "metadata": {},
   "outputs": [],
   "source": [
    "import pandas as pd # Nos permite manejar data como dataframes\n",
    "import numpy as np # Numpy es una librería de programación numérica super rápida\n",
    "import matplotlib.pyplot as plt #sets up plotting under plt"
   ]
  },
  {
   "cell_type": "code",
   "execution_count": 5,
   "metadata": {},
   "outputs": [],
   "source": [
    "SL = pd.read_csv('synergy_logistics_database.csv')\n",
    "    print(SL)"
   ]
  },
  {
   "cell_type": "code",
   "execution_count": 165,
   "metadata": {},
   "outputs": [
    {
     "data": {
      "text/plain": [
       "<pandas.core.groupby.generic.DataFrameGroupBy object at 0x0000018B13ADFB80>"
      ]
     },
     "execution_count": 165,
     "metadata": {},
     "output_type": "execute_result"
    }
   ],
   "source": [
    "cyw= ['direction', 'origin', 'destination', 'total_value']\n",
    "group = SL[cyw].groupby( by= ['direction', 'origin', 'destination'])\n",
    "group"
   ]
  },
  {
   "cell_type": "code",
   "execution_count": 2,
   "metadata": {},
   "outputs": [],
   "source": [
    "group_rev=group['total_value'].sum()\n",
    "(group_rev)"
   ]
  },
  {
   "cell_type": "code",
   "execution_count": 167,
   "metadata": {},
   "outputs": [
    {
     "data": {
      "text/plain": [
       "direction  origin       destination   \n",
       "Exports    China        Mexico            12250000000\n",
       "           Canada       Mexico             8450000000\n",
       "           South Korea  Vietnam            6877007000\n",
       "           France       Belgium            5538069000\n",
       "                        United Kingdom     5427000000\n",
       "                                             ...     \n",
       "           Netherlands  Argentina               36000\n",
       "                        Mexico                  28000\n",
       "           France       Russia                  20000\n",
       "                        Netherlands             14000\n",
       "                        Austria                  7000\n",
       "Name: total_value, Length: 193, dtype: int64"
      ]
     },
     "execution_count": 167,
     "metadata": {},
     "output_type": "execute_result"
    }
   ],
   "source": [
    "order = group_rev.sort_values(ascending=False)#.head()\n",
    "order"
   ]
  },
  {
   "cell_type": "code",
   "execution_count": 168,
   "metadata": {},
   "outputs": [],
   "source": [
    "#orderdf= order.to_frame()\n",
    "#orderdf"
   ]
  },
  {
   "cell_type": "code",
   "execution_count": 169,
   "metadata": {},
   "outputs": [
    {
     "data": {
      "text/plain": [
       "96"
      ]
     },
     "execution_count": 169,
     "metadata": {},
     "output_type": "execute_result"
    }
   ],
   "source": [
    "half=len(order)//2\n",
    "half"
   ]
  },
  {
   "cell_type": "code",
   "execution_count": 170,
   "metadata": {},
   "outputs": [
    {
     "data": {
      "text/plain": [
       "direction  origin       destination   \n",
       "Exports    China        Mexico            12250000000\n",
       "           Canada       Mexico             8450000000\n",
       "           South Korea  Vietnam            6877007000\n",
       "           France       Belgium            5538069000\n",
       "                        United Kingdom     5427000000\n",
       "                                             ...     \n",
       "           Spain        Germany             583000000\n",
       "Imports    Germany      Poland              570000000\n",
       "           Canada       USA                 569000000\n",
       "Exports    Italy        Ireland             563000000\n",
       "Imports    Germany      India               548000000\n",
       "Name: total_value, Length: 96, dtype: int64"
      ]
     },
     "execution_count": 170,
     "metadata": {},
     "output_type": "execute_result"
    }
   ],
   "source": [
    "top= order.head(half)\n",
    "top"
   ]
  },
  {
   "cell_type": "code",
   "execution_count": 171,
   "metadata": {},
   "outputs": [
    {
     "data": {
      "text/plain": [
       "197383004000"
      ]
     },
     "execution_count": 171,
     "metadata": {},
     "output_type": "execute_result"
    }
   ],
   "source": [
    "abc=top.sum()\n",
    "abc"
   ]
  },
  {
   "cell_type": "code",
   "execution_count": 172,
   "metadata": {},
   "outputs": [
    {
     "data": {
      "text/plain": [
       "215691298000"
      ]
     },
     "execution_count": 172,
     "metadata": {},
     "output_type": "execute_result"
    }
   ],
   "source": [
    "total_rev = SL['total_value'].sum()\n",
    "total_rev"
   ]
  },
  {
   "cell_type": "code",
   "execution_count": 173,
   "metadata": {},
   "outputs": [
    {
     "data": {
      "text/plain": [
       "172553038400.0"
      ]
     },
     "execution_count": 173,
     "metadata": {},
     "output_type": "execute_result"
    }
   ],
   "source": [
    "most_rev= total_rev*.80\n",
    "most_rev"
   ]
  },
  {
   "cell_type": "code",
   "execution_count": 176,
   "metadata": {},
   "outputs": [
    {
     "data": {
      "text/plain": [
       "-24829965600.0"
      ]
     },
     "execution_count": 176,
     "metadata": {},
     "output_type": "execute_result"
    }
   ],
   "source": [
    "eighty_half = most_rev - abc\n",
    "eighty_half"
   ]
  },
  {
   "cell_type": "code",
   "execution_count": 177,
   "metadata": {},
   "outputs": [
    {
     "data": {
      "text/plain": [
       "pandas.core.series.Series"
      ]
     },
     "execution_count": 177,
     "metadata": {},
     "output_type": "execute_result"
    }
   ],
   "source": [
    "type(order)"
   ]
  },
  {
   "cell_type": "code",
   "execution_count": 178,
   "metadata": {},
   "outputs": [
    {
     "name": "stdout",
     "output_type": "stream",
     "text": [
      "Route: ('Exports', 'China', 'Mexico'), Revenue : 12250000000\n",
      "Route: ('Exports', 'Canada', 'Mexico'), Revenue : 8450000000\n",
      "Route: ('Exports', 'South Korea', 'Vietnam'), Revenue : 6877007000\n",
      "Route: ('Exports', 'France', 'Belgium'), Revenue : 5538069000\n"
     ]
    }
   ],
   "source": [
    "for index, value in order.items():\n",
    "    if value > 5427000000:\n",
    "        print(f\"Route: {index}, Revenue : {value}\")"
   ]
  },
  {
   "cell_type": "code",
   "execution_count": 179,
   "metadata": {},
   "outputs": [],
   "source": [
    "list_values = []\n",
    "for index, value in order.items():\n",
    "    list_values.append(value)\n",
    "#print(list_values)"
   ]
  },
  {
   "cell_type": "code",
   "execution_count": 180,
   "metadata": {},
   "outputs": [
    {
     "name": "stdout",
     "output_type": "stream",
     "text": [
      "215691298000\n"
     ]
    }
   ],
   "source": [
    "def sumlist(listaNumeros):\n",
    "    counter = 0\n",
    "    for index, value in order.items():\n",
    "        counter = counter + value\n",
    "    return counter\n",
    "\n",
    "print(sumlist(list_values))"
   ]
  },
  {
   "cell_type": "code",
   "execution_count": 181,
   "metadata": {},
   "outputs": [
    {
     "name": "stdout",
     "output_type": "stream",
     "text": [
      "173049895000\n"
     ]
    }
   ],
   "source": [
    "def sumlist(listaNumeros):\n",
    "    counter = 0\n",
    "    for index, value in order.items():\n",
    "        if counter < most_rev:\n",
    "            counter = counter + value\n",
    "    return counter\n",
    "\n",
    "print(sumlist(list_values))"
   ]
  },
  {
   "cell_type": "code",
   "execution_count": 182,
   "metadata": {},
   "outputs": [
    {
     "name": "stdout",
     "output_type": "stream",
     "text": [
      "Route: ('Exports', 'China', 'Mexico'), Revenue: 12250000000\n",
      "Route: ('Exports', 'Canada', 'Mexico'), Revenue: 8450000000\n",
      "Route: ('Exports', 'South Korea', 'Vietnam'), Revenue: 6877007000\n",
      "Route: ('Exports', 'France', 'Belgium'), Revenue: 5538069000\n",
      "Route: ('Exports', 'France', 'United Kingdom'), Revenue: 5427000000\n",
      "Route: ('Exports', 'China', 'South Korea'), Revenue: 4790000000\n",
      "Route: ('Exports', 'USA', 'Mexico'), Revenue: 4710000000\n",
      "Route: ('Exports', 'South Korea', 'Japan'), Revenue: 4594000000\n",
      "Route: ('Exports', 'Germany', 'Italy'), Revenue: 4541000000\n",
      "Route: ('Exports', 'China', 'Germany'), Revenue: 4090000000\n",
      "Route: ('Imports', 'Singapore', 'Thailand'), Revenue: 4017000000\n",
      "Route: ('Imports', 'Japan', 'Mexico'), Revenue: 3918000000\n",
      "Route: ('Imports', 'China', 'Thailand'), Revenue: 3831000000\n",
      "Route: ('Exports', 'China', 'USA'), Revenue: 3797000000\n",
      "Route: ('Exports', 'Russia', 'Belorussia'), Revenue: 3529000000\n",
      "Route: ('Imports', 'Malaysia', 'Thailand'), Revenue: 3482000000\n",
      "Route: ('Exports', 'France', 'USA'), Revenue: 3402000000\n",
      "Route: ('Exports', 'Japan', 'Brazil'), Revenue: 3368155000\n",
      "Route: ('Imports', 'China', 'United Arab Emirates'), Revenue: 3357000000\n",
      "Route: ('Exports', 'Netherlands', 'Belgium'), Revenue: 3238142000\n",
      "Route: ('Imports', 'China', 'Japan'), Revenue: 3237000000\n",
      "Route: ('Exports', 'USA', 'Argentina'), Revenue: 3159000000\n",
      "Route: ('Exports', 'Germany', 'France'), Revenue: 2902214000\n",
      "Route: ('Exports', 'China', 'Japan'), Revenue: 2654000000\n",
      "Route: ('Exports', 'Japan', 'China'), Revenue: 2550000000\n",
      "Route: ('Exports', 'USA', 'Canada'), Revenue: 2412000000\n",
      "Route: ('Exports', 'USA', 'Brazil'), Revenue: 2384000000\n",
      "Route: ('Exports', 'USA', 'Belgium'), Revenue: 2371000000\n",
      "Route: ('Imports', 'Mexico', 'USA'), Revenue: 2365000000\n",
      "Route: ('Exports', 'Russia', 'China'), Revenue: 2310000000\n",
      "Route: ('Imports', 'Japan', 'United Arab Emirates'), Revenue: 2238000000\n",
      "Route: ('Exports', 'Germany', 'China'), Revenue: 2167875000\n",
      "Route: ('Imports', 'Spain', 'Germany'), Revenue: 2044000000\n",
      "Route: ('Exports', 'Russia', 'Germany'), Revenue: 2042000000\n",
      "Route: ('Exports', 'Japan', 'USA'), Revenue: 1965040000\n",
      "Route: ('Exports', 'Russia', 'Netherlands'), Revenue: 1959000000\n",
      "Route: ('Exports', 'France', 'Germany'), Revenue: 1940035000\n",
      "Route: ('Exports', 'Japan', 'Mexico'), Revenue: 1911000000\n",
      "Route: ('Exports', 'China', 'Spain'), Revenue: 1862000000\n",
      "Route: ('Imports', 'Germany', 'Mexico'), Revenue: 1804000000\n",
      "Route: ('Imports', 'South Korea', 'United Arab Emirates'), Revenue: 1713000000\n",
      "Route: ('Exports', 'South Korea', 'China'), Revenue: 1704000000\n",
      "Route: ('Exports', 'Belgium', 'United Kingdom'), Revenue: 1632000000\n",
      "Route: ('Imports', 'USA', 'Germany'), Revenue: 1620000000\n",
      "Route: ('Exports', 'USA', 'Singapore'), Revenue: 1599000000\n",
      "Route: ('Imports', 'USA', 'Thailand'), Revenue: 1568000000\n",
      "Route: ('Exports', 'France', 'Spain'), Revenue: 1455058000\n",
      "Route: ('Exports', 'Russia', 'Turkey'), Revenue: 1446000000\n",
      "Route: ('Exports', 'Italy', 'Germany'), Revenue: 1415088000\n",
      "Route: ('Exports', 'United Kingdom', 'Spain'), Revenue: 1378025000\n",
      "Route: ('Imports', 'Germany', 'China'), Revenue: 1328000000\n",
      "Route: ('Imports', 'South Korea', 'Mexico'), Revenue: 1291000000\n",
      "Route: ('Imports', 'China', 'Singapore'), Revenue: 1267000000\n",
      "Route: ('Exports', 'China', 'Argentina'), Revenue: 1236000000\n",
      "Route: ('Exports', 'South Korea', 'USA'), Revenue: 1228000000\n",
      "Route: ('Exports', 'Japan', 'South Korea'), Revenue: 1226000000\n",
      "Route: ('Imports', 'Mexico', 'Japan'), Revenue: 1143000000\n",
      "Route: ('Imports', 'USA', 'India'), Revenue: 1133000000\n",
      "Route: ('Exports', 'Spain', 'Russia'), Revenue: 1085000000\n",
      "Route: ('Exports', 'India', 'United Arab Emirates'), Revenue: 1037000000\n",
      "Route: ('Exports', 'USA', 'Netherlands'), Revenue: 1032187000\n",
      "Route: ('Imports', 'France', 'Poland'), Revenue: 1030000000\n",
      "Total Revenue For This Routes: $ 173049895000 // (Equivalent to 80%_Total_Revenue)\n",
      "Total of Routes:  62\n",
      "% of Total_Routes:  32.12435233160622 %\n"
     ]
    }
   ],
   "source": [
    "routes= []\n",
    "list_values1 = []\n",
    "def sumlist(listaNumeros):\n",
    "    counter = 0\n",
    "    for index, value in order.items():\n",
    "        if counter < most_rev:\n",
    "            print(f\"Route: {index}, Revenue: {value}\")\n",
    "            routes.append(index)\n",
    "            list_values1.append(value)\n",
    "            counter = counter + value \n",
    "    return counter\n",
    "\n",
    "print('Total Revenue For This Routes:','$', sumlist(list_values), '// (Equivalent to 80%_Total_Revenue)')\n",
    "print('Total of Routes: ',len(routes))\n",
    "print('% of Total_Routes: ',((len(routes)/len(order))*100),'%')"
   ]
  },
  {
   "cell_type": "code",
   "execution_count": 183,
   "metadata": {},
   "outputs": [
    {
     "data": {
      "text/html": [
       "<div>\n",
       "<style scoped>\n",
       "    .dataframe tbody tr th:only-of-type {\n",
       "        vertical-align: middle;\n",
       "    }\n",
       "\n",
       "    .dataframe tbody tr th {\n",
       "        vertical-align: top;\n",
       "    }\n",
       "\n",
       "    .dataframe thead th {\n",
       "        text-align: right;\n",
       "    }\n",
       "</style>\n",
       "<table border=\"1\" class=\"dataframe\">\n",
       "  <thead>\n",
       "    <tr style=\"text-align: right;\">\n",
       "      <th></th>\n",
       "      <th>Route</th>\n",
       "      <th>Total_Revenue</th>\n",
       "    </tr>\n",
       "  </thead>\n",
       "  <tbody>\n",
       "    <tr>\n",
       "      <th>0</th>\n",
       "      <td>(Exports, China, Mexico)</td>\n",
       "      <td>12250000000</td>\n",
       "    </tr>\n",
       "    <tr>\n",
       "      <th>1</th>\n",
       "      <td>(Exports, Canada, Mexico)</td>\n",
       "      <td>8450000000</td>\n",
       "    </tr>\n",
       "    <tr>\n",
       "      <th>2</th>\n",
       "      <td>(Exports, South Korea, Vietnam)</td>\n",
       "      <td>6877007000</td>\n",
       "    </tr>\n",
       "    <tr>\n",
       "      <th>3</th>\n",
       "      <td>(Exports, France, Belgium)</td>\n",
       "      <td>5538069000</td>\n",
       "    </tr>\n",
       "    <tr>\n",
       "      <th>4</th>\n",
       "      <td>(Exports, France, United Kingdom)</td>\n",
       "      <td>5427000000</td>\n",
       "    </tr>\n",
       "    <tr>\n",
       "      <th>...</th>\n",
       "      <td>...</td>\n",
       "      <td>...</td>\n",
       "    </tr>\n",
       "    <tr>\n",
       "      <th>57</th>\n",
       "      <td>(Imports, USA, India)</td>\n",
       "      <td>1133000000</td>\n",
       "    </tr>\n",
       "    <tr>\n",
       "      <th>58</th>\n",
       "      <td>(Exports, Spain, Russia)</td>\n",
       "      <td>1085000000</td>\n",
       "    </tr>\n",
       "    <tr>\n",
       "      <th>59</th>\n",
       "      <td>(Exports, India, United Arab Emirates)</td>\n",
       "      <td>1037000000</td>\n",
       "    </tr>\n",
       "    <tr>\n",
       "      <th>60</th>\n",
       "      <td>(Exports, USA, Netherlands)</td>\n",
       "      <td>1032187000</td>\n",
       "    </tr>\n",
       "    <tr>\n",
       "      <th>61</th>\n",
       "      <td>(Imports, France, Poland)</td>\n",
       "      <td>1030000000</td>\n",
       "    </tr>\n",
       "  </tbody>\n",
       "</table>\n",
       "<p>62 rows × 2 columns</p>\n",
       "</div>"
      ],
      "text/plain": [
       "                                     Route  Total_Revenue\n",
       "0                 (Exports, China, Mexico)    12250000000\n",
       "1                (Exports, Canada, Mexico)     8450000000\n",
       "2          (Exports, South Korea, Vietnam)     6877007000\n",
       "3               (Exports, France, Belgium)     5538069000\n",
       "4        (Exports, France, United Kingdom)     5427000000\n",
       "..                                     ...            ...\n",
       "57                   (Imports, USA, India)     1133000000\n",
       "58                (Exports, Spain, Russia)     1085000000\n",
       "59  (Exports, India, United Arab Emirates)     1037000000\n",
       "60             (Exports, USA, Netherlands)     1032187000\n",
       "61               (Imports, France, Poland)     1030000000\n",
       "\n",
       "[62 rows x 2 columns]"
      ]
     },
     "execution_count": 183,
     "metadata": {},
     "output_type": "execute_result"
    }
   ],
   "source": [
    "df = pd.DataFrame(list(zip( routes,list_values1)), \n",
    "               columns =['Route', 'Total_Revenue' ]) \n",
    "df "
   ]
  },
  {
   "cell_type": "code",
   "execution_count": 186,
   "metadata": {},
   "outputs": [
    {
     "data": {
      "text/plain": [
       "<Figure size 432x288 with 0 Axes>"
      ]
     },
     "metadata": {},
     "output_type": "display_data"
    },
    {
     "data": {
      "image/png": "[encoded data removed]",
      "text/plain": [
       "<Figure size 432x288 with 1 Axes>"
      ]
     },
     "metadata": {
      "needs_background": "light"
     },
     "output_type": "display_data"
    }
   ],
   "source": [
    "plt.figure();\n",
    "df.plot(kind='bar');"
   ]
  },
  {
   "cell_type": "code",
   "execution_count": null,
   "metadata": {},
   "outputs": [],
   "source": []
  }
 ],
 "metadata": {
  "kernelspec": {
   "display_name": "Python 3",
   "language": "python",
   "name": "python3"
  },
  "language_info": {
   "codemirror_mode": {
    "name": "ipython",
    "version": 3
   },
   "file_extension": ".py",
   "mimetype": "text/x-python",
   "name": "python",
   "nbconvert_exporter": "python",
   "pygments_lexer": "ipython3",
   "version": "3.8.3"
  }
 },
 "nbformat": 4,
 "nbformat_minor": 4
}
